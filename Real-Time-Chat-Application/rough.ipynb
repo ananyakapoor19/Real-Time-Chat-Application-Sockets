{
 "cells": [
  {
   "cell_type": "code",
   "execution_count": 1,
   "id": "2800d26b",
   "metadata": {},
   "outputs": [],
   "source": [
    "from tkinter import *\n",
    "from PIL import Image, ImageTk\n",
    "\n",
    "# create a new Tkinter window\n",
    "window = Tk()\n",
    "\n",
    "# load the image using PIL\n",
    "image = Image.open(\"flower.png\")\n",
    "\n",
    "# convert the image to a Tkinter-compatible format\n",
    "tk_image = ImageTk.PhotoImage(image)\n",
    "\n",
    "# create a Tkinter label containing the image\n",
    "label = Label(window, image=tk_image)\n",
    "label.pack()\n",
    "\n",
    "# run the window\n",
    "window.mainloop()\n"
   ]
  },
  {
   "cell_type": "code",
   "execution_count": null,
   "id": "483e8c1f",
   "metadata": {},
   "outputs": [],
   "source": []
  }
 ],
 "metadata": {
  "kernelspec": {
   "display_name": "Python 3 (ipykernel)",
   "language": "python",
   "name": "python3"
  },
  "language_info": {
   "codemirror_mode": {
    "name": "ipython",
    "version": 3
   },
   "file_extension": ".py",
   "mimetype": "text/x-python",
   "name": "python",
   "nbconvert_exporter": "python",
   "pygments_lexer": "ipython3",
   "version": "3.9.12"
  }
 },
 "nbformat": 4,
 "nbformat_minor": 5
}
